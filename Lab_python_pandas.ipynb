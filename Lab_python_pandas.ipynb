{
  "nbformat": 4,
  "nbformat_minor": 0,
  "metadata": {
    "anaconda-cloud": {},
    "kernelspec": {
      "display_name": "Python 3.6 (tensorflow)",
      "language": "python",
      "name": "tensorflow"
    },
    "language_info": {
      "codemirror_mode": {
        "name": "ipython",
        "version": 3
      },
      "file_extension": ".py",
      "mimetype": "text/x-python",
      "name": "python",
      "nbconvert_exporter": "python",
      "pygments_lexer": "ipython3",
      "version": "3.7.5"
    },
    "colab": {
      "provenance": [],
      "toc_visible": true
    }
  },
  "cells": [
    {
      "cell_type": "markdown",
      "metadata": {
        "id": "Bt63VzrFRcvs"
      },
      "source": [
        "## Big Data Analytics"
      ]
    },
    {
      "cell_type": "markdown",
      "metadata": {
        "id": "ns9lsXsRwngB"
      },
      "source": [
        "# Google CoLab Instructions\n",
        "\n",
        "The following code ensures that Google CoLab is running the correct version of TensorFlow."
      ]
    },
    {
      "cell_type": "code",
      "metadata": {
        "id": "4KVkkyQJwngC",
        "outputId": "a84b3608-d956-48f6-fdd6-8859710a9bd6",
        "colab": {
          "base_uri": "https://localhost:8080/"
        }
      },
      "source": [
        "try:\n",
        "    from google.colab import drive\n",
        "    %tensorflow_version 2.x\n",
        "    COLAB = True\n",
        "    print(\"Note: using Google CoLab\")\n",
        "except:\n",
        "    print(\"Note: not using Google CoLab\")\n",
        "    COLAB = False"
      ],
      "execution_count": null,
      "outputs": [
        {
          "output_type": "stream",
          "text": [
            "Note: using Google CoLab\n"
          ],
          "name": "stdout"
        }
      ]
    },
    {
      "cell_type": "markdown",
      "metadata": {
        "id": "qenX_E3ZwngD"
      },
      "source": [
        "# Part 2.1: Introduction to Pandas\n",
        "\n",
        "[Pandas](http://pandas.pydata.org/) is an open-source library providing high-performance, easy-to-use data structures and data analysis tools for the Python programming language.  It is based on the [dataframe](http://pandas.pydata.org/pandas-docs/stable/generated/pandas.DataFrame.html) concept found in the [R programming language](https://www.r-project.org/about.html).  \n",
        "\n",
        "The data frame is a crucial component of Pandas.  We will use it to access the [auto-mpg dataset](https://archive.ics.uci.edu/ml/datasets/Auto+MPG).  You can find this dataset on the UCI machine learning repository.  \n",
        "\n",
        "UCI took this dataset from the StatLib library, which Carnegie Mellon University maintains. The dataset was used in the 1983 American Statistical Association Exposition.  It contains data for 398 cars, including [mpg](https://en.wikipedia.org/wiki/Fuel_economy_in_automobiles), [cylinders](https://en.wikipedia.org/wiki/Cylinder_(engine)), [displacement](https://en.wikipedia.org/wiki/Engine_displacement), [horsepower](https://en.wikipedia.org/wiki/Horsepower) , weight, acceleration, model year, origin and the car's name.\n",
        "\n",
        "The following code loads the MPG dataset into a data frame:"
      ]
    },
    {
      "cell_type": "code",
      "metadata": {
        "id": "yAnxCx0J-a_i",
        "outputId": "d63fa8e0-ceec-4772-a468-38e0a513ff25",
        "colab": {
          "base_uri": "https://localhost:8080/"
        }
      },
      "source": [
        "!pip install googledrivedownloader"
      ],
      "execution_count": null,
      "outputs": [
        {
          "output_type": "stream",
          "text": [
            "Requirement already satisfied: googledrivedownloader in /usr/local/lib/python3.6/dist-packages (0.4)\n"
          ],
          "name": "stdout"
        }
      ]
    },
    {
      "cell_type": "code",
      "metadata": {
        "id": "ixdDuobx-eIZ"
      },
      "source": [
        "from google_drive_downloader import GoogleDriveDownloader as gdd\n",
        "\n",
        "# Glass data from https://archive.ics.uci.edu/ml/machine-learning-databases/glass/\n",
        "gdd.download_file_from_google_drive(file_id='1Eu7nSAOVyqKEMhRSLekCjIgxZLW-sjN2',\n",
        "                                    dest_path='/content/auto-mpg.csv')"
      ],
      "execution_count": null,
      "outputs": []
    },
    {
      "cell_type": "code",
      "metadata": {
        "id": "xQhoNFCWwngE"
      },
      "source": [
        "# Simple dataframe\n",
        "import os\n",
        "import pandas as pd\n",
        "\n",
        "df = pd.read_csv(\"/content/auto-mpg.csv\")\n",
        "print(df[0:5])"
      ],
      "execution_count": null,
      "outputs": []
    },
    {
      "cell_type": "markdown",
      "metadata": {
        "id": "QwkA_S-AwngE"
      },
      "source": [
        "The **display** function provides a cleaner display than merely printing the data frame.  Specifying the maximum rows and columns allows you to achieve greater control over the display."
      ]
    },
    {
      "cell_type": "code",
      "metadata": {
        "id": "zA-c3zn6wngE"
      },
      "source": [
        "pd.set_option('display.max_columns', 7)\n",
        "pd.set_option('display.max_rows', 5)\n",
        "display(df)"
      ],
      "execution_count": null,
      "outputs": []
    },
    {
      "cell_type": "markdown",
      "metadata": {
        "id": "ZC5m8KuuwngF"
      },
      "source": [
        "It is possible to generate a second data frame to display statistical information about the first data frame."
      ]
    },
    {
      "cell_type": "code",
      "metadata": {
        "id": "z6Gfu4Y3wngF"
      },
      "source": [
        "# Strip non-numerics\n",
        "df = df.select_dtypes(include=['int', 'float'])\n",
        "\n",
        "headers = list(df.columns.values)\n",
        "fields = []\n",
        "\n",
        "for field in headers:\n",
        "    fields.append({\n",
        "        'name' : field,\n",
        "        'mean': df[field].mean(),\n",
        "        'var': df[field].var(),\n",
        "        'sdev': df[field].std()\n",
        "    })\n",
        "\n",
        "for field in fields:\n",
        "    print(field)"
      ],
      "execution_count": null,
      "outputs": []
    },
    {
      "cell_type": "markdown",
      "metadata": {
        "id": "vigR8_SRwngG"
      },
      "source": [
        "This code outputs a list of dictionaries that hold this statistical information.  This information looks similar to the JSON code.  To as proper JSON, the program should add these records to a list and call the Python JSON library's **dumps** command called.\n",
        "\n",
        "The Python program can convert this JSON-like information to a data frame for better display."
      ]
    },
    {
      "cell_type": "code",
      "metadata": {
        "id": "Ne7e08W5wngG"
      },
      "source": [
        "pd.set_option('display.max_columns', 0)\n",
        "pd.set_option('display.max_rows', 0)\n",
        "df2 = pd.DataFrame(fields)\n",
        "display(df2)"
      ],
      "execution_count": null,
      "outputs": []
    },
    {
      "cell_type": "markdown",
      "metadata": {
        "id": "WYwgzgHqwngG"
      },
      "source": [
        "## Missing Values\n",
        "\n",
        "Missing values are a reality of machine learning.  Ideally, every row of data will have values for all columns.  However, this is rarely the case.  Most of the values are present in the MPG database.  However, there are missing values in the horsepower column.  A common practice is to replace missing values with the median value for that column.  The program calculates the median as described [here](https://www.mathsisfun.com/median.html).  The following code replaces any NA values in horsepower with the median:"
      ]
    },
    {
      "cell_type": "code",
      "metadata": {
        "id": "GjuOKdUpwngG"
      },
      "source": [
        "import os\n",
        "import pandas as pd\n",
        "\n",
        "df = pd.read_csv(\n",
        "    \"/content/auto-mpg.csv\", \n",
        "    na_values=['NA', '?'])\n",
        "print(f\"horsepower has na? {pd.isnull(df['horsepower']).values.any()}\")\n",
        "    \n",
        "print(\"Filling missing values...\")\n",
        "med = df['horsepower'].median()\n",
        "df['horsepower'] = df['horsepower'].fillna(med)\n",
        "# df = df.dropna() # you can also simply drop NA values\n",
        "                 \n",
        "print(f\"horsepower has na? {pd.isnull(df['horsepower']).values.any()}\")"
      ],
      "execution_count": null,
      "outputs": []
    },
    {
      "cell_type": "markdown",
      "metadata": {
        "id": "-DBhQfcMwngH"
      },
      "source": [
        "# Dealing with Outliers\n",
        "\n",
        "Outliers are values that are unusually high or low.  Sometimes outliers are simply errors; this is a result of [observation error](https://en.wikipedia.org/wiki/Observational_error).  Outliers can also be truly large or small values that may be difficult to address. We typically consider outliers to be a value that is several standard deviations from the mean.  The following function can remove such values.    "
      ]
    },
    {
      "cell_type": "code",
      "metadata": {
        "id": "Y3MbTprPwngI"
      },
      "source": [
        "# Remove all rows where the specified column is +/- sd standard deviations\n",
        "def remove_outliers(df, name, sd):\n",
        "    drop_rows = df.index[(np.abs(df[name] - df[name].mean())\n",
        "                          >= (sd * df[name].std()))]\n",
        "    df.drop(drop_rows, axis=0, inplace=True)"
      ],
      "execution_count": null,
      "outputs": []
    },
    {
      "cell_type": "markdown",
      "metadata": {
        "id": "hc66-CzWwngI"
      },
      "source": [
        "The code below will drop every row from the Auto MPG dataset where the horsepower is more than two standard deviations above or below the mean."
      ]
    },
    {
      "cell_type": "code",
      "metadata": {
        "id": "0hEBKkpawngJ"
      },
      "source": [
        "import pandas as pd\n",
        "import os\n",
        "import numpy as np\n",
        "from sklearn import metrics\n",
        "from scipy.stats import zscore\n",
        "\n",
        "df = pd.read_csv(\n",
        "    \"/content/auto-mpg.csv\",\n",
        "    na_values=['NA','?'])\n",
        "\n",
        "# create feature vector\n",
        "med = df['horsepower'].median()\n",
        "df['horsepower'] = df['horsepower'].fillna(med)\n",
        "\n",
        "# Drop the name column\n",
        "df.drop('name',1,inplace=True)\n",
        "\n",
        "# Drop outliers in horsepower\n",
        "print(\"Length before MPG outliers dropped: {}\".format(len(df)))\n",
        "remove_outliers(df,'mpg',2)\n",
        "print(\"Length after MPG outliers dropped: {}\".format(len(df)))\n",
        "\n",
        "pd.set_option('display.max_columns', 0)\n",
        "pd.set_option('display.max_rows', 5)\n",
        "display(df)"
      ],
      "execution_count": null,
      "outputs": []
    },
    {
      "cell_type": "markdown",
      "metadata": {
        "id": "AzW_-TYuwngJ"
      },
      "source": [
        "## Dropping Fields\n",
        "\n",
        "Some fields are of no value to the neural network should be dropped.  The following code removes the name column from the MPG dataset."
      ]
    },
    {
      "cell_type": "code",
      "metadata": {
        "id": "wvLvugDDwngK"
      },
      "source": [
        "import os\n",
        "import pandas as pd\n",
        "\n",
        "df = pd.read_csv(\n",
        "    \"/content/auto-mpg.csv\",\n",
        "    na_values=['NA','?'])\n",
        "\n",
        "print(f\"Before drop: {list(df.columns)}\")\n",
        "df.drop('name', 1, inplace=True)\n",
        "print(f\"After drop: {list(df.columns)}\")"
      ],
      "execution_count": null,
      "outputs": []
    },
    {
      "cell_type": "markdown",
      "metadata": {
        "id": "67p30OUSwngK"
      },
      "source": [
        "## Concatenating Rows and Columns\n",
        "Python can concatenate rows and columns together to form new data frames.  The code below creates a new data frame from the **name** and **horsepower** columns from the Auto MPG dataset.  The program does this by concatenating two columns together."
      ]
    },
    {
      "cell_type": "code",
      "metadata": {
        "id": "8aaktYRhwngL"
      },
      "source": [
        "# Create a new dataframe from name and horsepower\n",
        "\n",
        "import os\n",
        "import pandas as pd\n",
        "\n",
        "df = pd.read_csv(\n",
        "    \"/content/auto-mpg.csv\",\n",
        "    na_values=['NA','?'])\n",
        "\n",
        "col_horsepower = df['horsepower']\n",
        "col_name = df['name']\n",
        "result = pd.concat([col_name, col_horsepower], axis=1)\n",
        "\n",
        "pd.set_option('display.max_columns', 0)\n",
        "pd.set_option('display.max_rows', 5)\n",
        "display(result)"
      ],
      "execution_count": null,
      "outputs": []
    },
    {
      "cell_type": "markdown",
      "metadata": {
        "id": "0X1bmBgXwngL"
      },
      "source": [
        "The **concat** function can also concatenate two rows together.  This code concatenates the first two rows and the last two rows of the Auto MPG dataset."
      ]
    },
    {
      "cell_type": "code",
      "metadata": {
        "id": "4SAJaFapwngM"
      },
      "source": [
        "# Create a new dataframe from first 2 rows and last 2 rows\n",
        "\n",
        "import os\n",
        "import pandas as pd\n",
        "\n",
        "df = pd.read_csv(\n",
        "    \"/content/auto-mpg.csv\",\n",
        "    na_values=['NA','?'])\n",
        "\n",
        "result = pd.concat([df[0:2],df[-2:]], axis=0)\n",
        "\n",
        "pd.set_option('display.max_columns', 7)\n",
        "pd.set_option('display.max_rows', 0)\n",
        "display(result)"
      ],
      "execution_count": null,
      "outputs": []
    },
    {
      "cell_type": "markdown",
      "metadata": {
        "id": "gyytdvlCwngO"
      },
      "source": [
        "You might wish only to convert some of the columns, to leave out the name column, use the following code."
      ]
    },
    {
      "cell_type": "markdown",
      "metadata": {
        "id": "sJYtvL6XwngO"
      },
      "source": [
        "## Saving a Dataframe to CSV\n",
        "\n",
        " The following code performs a shuffle and then saves a new copy."
      ]
    },
    {
      "cell_type": "code",
      "metadata": {
        "id": "I5FdB6tZwngO"
      },
      "source": [
        "import os\n",
        "import pandas as pd\n",
        "import numpy as np\n",
        "\n",
        "path = \".\"\n",
        "\n",
        "df = pd.read_csv(\n",
        "    \"/content/auto-mpg.csv\",\n",
        "    na_values=['NA','?'])\n",
        "\n",
        "filename_write = os.path.join(path, \"auto-mpg-shuffle.csv\")\n",
        "df = df.reindex(np.random.permutation(df.index))\n",
        "# Specify index = false to not write row numbers\n",
        "df.to_csv(filename_write, index=False) \n",
        "print(\"Done\")"
      ],
      "execution_count": null,
      "outputs": []
    },
    {
      "cell_type": "code",
      "metadata": {
        "id": "WxH_n6W8wngQ"
      },
      "source": [],
      "execution_count": null,
      "outputs": []
    }
  ]
}